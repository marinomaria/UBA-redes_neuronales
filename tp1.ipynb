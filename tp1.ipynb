{
  "nbformat": 4,
  "nbformat_minor": 0,
  "metadata": {
    "colab": {
      "provenance": [],
      "gpuType": "T4",
      "toc_visible": true
    },
    "kernelspec": {
      "name": "python3",
      "display_name": "Python 3"
    },
    "language_info": {
      "name": "python"
    },
    "gpuClass": "standard"
  },
  "cells": [
    {
      "cell_type": "markdown",
      "source": [
        "# **Redes Neuronales Artificiales**: Trabajo Práctico 1\n",
        "\n",
        "#### Integrantes:\n",
        "\n",
        "- Maximiliano Dacko, LU  284/21\n",
        "- María Marino, LU 450/21\n",
        "- Giovanni Franco Gabriel Marraffini, LU 292/21"
      ],
      "metadata": {
        "id": "uh0IJK1M9zHr"
      }
    },
    {
      "cell_type": "markdown",
      "source": [
        "## Clase `MLP`: Multi Level Perceptron"
      ],
      "metadata": {
        "id": "RTv4jpg5_UdK"
      }
    },
    {
      "cell_type": "markdown",
      "source": [
        "En primer lugar, se crea una clase para facilitar las acciones más utilizadas por la red neuronal. Esta consta de un constructor donde se definen la cantidad de neuronas de cada capa y la función de activación. Asimismo se crean las matrices pseudoaleatorias con una distribución normal.\n",
        "\n",
        "Además, se utilizan como métodos públicos una función de activación de la red, una función de corrección de los pesos que utiliza el algortimo de *backpropagation* del error y una función para obtener los valores de salida dados nuevos datos de entrada.\n",
        "\n",
        "Se decidió utilizar la misma función de activación para todas las capas. "
      ],
      "metadata": {
        "id": "1eJxl6z1FTPG"
      }
    },
    {
      "cell_type": "code",
      "execution_count": null,
      "metadata": {
        "id": "WtWGriXIPiva"
      },
      "outputs": [],
      "source": [
        "import numpy as np\n",
        "\n",
        "def sigmoid(x):\n",
        "  return 1 / (1 + np.exp(-x))\n",
        "\n",
        "class MLP:\n",
        "    def __init__(self, sizes: list[int], batchSize: int, f: str = 'tanh'):\n",
        "        self.S = sizes\n",
        "        self.L = len(self.S)\n",
        "        self.N = batchSize\n",
        "        self.Y = [np.empty(shape=(self.N, self.S[i - 1] + 1)) for i in range(self.L)]\n",
        "        self.W = [None] + [np.random.normal(0, 0.5, (self.S[i - 1] + 1, self.S[i])) for i in range(1, self.L)]\n",
        "        self._f = f\n",
        "\n",
        "    \n",
        "    def _add_bias(self, V):\n",
        "        bias = np.ones((len(V),1))\n",
        "        return np.hstack([V, bias])\n",
        "\n",
        "    def _sub_bias(self, V):\n",
        "        return V[:, :-1]\n",
        "    \n",
        "    @property\n",
        "    def f(self):\n",
        "        return self._f\n",
        "\n",
        "    @f.setter\n",
        "    def f(self, fun):\n",
        "        if fun != 'tanh' and fun != 'sigmoid': \n",
        "            raise Exception('Activation function should be  \\'tanh\\' or \\'sigmoid\\'')\n",
        "    \n",
        "    def activation(self, Xh):\n",
        "        self.Y = [np.empty(shape=(self.N, self.S[i - 1] + 1)) for i in range(self.L)]\n",
        "        Y_b = Xh\n",
        "        for k in range(1, self.L):\n",
        "            self.Y[k - 1] = self._add_bias(Y_b)\n",
        "            if self.f == 'sigmoid':\n",
        "                Y_b = sigmoid(self.Y[k - 1] @ self.W[k])\n",
        "            else:\n",
        "                Y_b = np.tanh(self.Y[k - 1] @ self.W[k])\n",
        "        self.Y[self.L - 1] = Y_b\n",
        "        return self.Y\n",
        "    \n",
        "    def correction(self, Yh, Zh):\n",
        "        D = [np.empty(shape=(self.N, self.S[i - 1] + 1)) for i in range(self.L)]\n",
        "        deltaW = [None] + [np.empty(shape=(self.S[i - 1] + 1, self.S[i])) for i in range(1, self.L)]\n",
        "        E = Zh - Yh[self.L - 1]\n",
        "        if self.f == 'sigmoid':\n",
        "            dY = Yh[self.L - 1] * (1 - Yh[self.L - 1]) # Derivative of sigmoid\n",
        "        else:\n",
        "            dY = 1 - np.square(Yh[self.L - 1]) # Derivative of tanh\n",
        "        D[self.L - 1] = E * dY\n",
        "        for k in reversed(range(1, self.L)):\n",
        "            deltaW[k] = Yh[k - 1].T @ D[k]\n",
        "            E = D[k] @ self.W[k].T\n",
        "            if self.f == 'sigmoid':\n",
        "                dY = Yh[k - 1] * (1 - Yh[k - 1]) # Derivative of sigmoid\n",
        "            else:\n",
        "                dY = 1 - np.square(Yh[k - 1]) # Derivative of tanh\n",
        "            D[k - 1] = self._sub_bias(E * dY)\n",
        "        return deltaW\n",
        "\n",
        "    def predict(self, x):\n",
        "      return self.activation(x)[-1]"
      ]
    },
    {
      "cell_type": "markdown",
      "source": [
        "# **Ejercicio 1**"
      ],
      "metadata": {
        "id": "a65siJFgTxiE"
      }
    },
    {
      "cell_type": "markdown",
      "source": [
        "Se subieron los datos a un repositorio público para facilitar su importación.\n",
        "\n",
        "Por el enunciado, sabemos que el conjunto de datos consta de las siguientes columnas:\n",
        "1. *Diagnóstico, dónde 1 = maligno y 0 = benigno*. (**Nuestra variable objetivo**).\n",
        "2. *Radio: media de la distancia desde el centro a los puntos deperímetro*\n",
        "3. *Textura: desviación estándar de los valores en escala de gris*\n",
        "4. *Perímetro*\n",
        "5. *Área*\n",
        "6. *Suavidad: variaciones locales en la longitud del radio*\n",
        "7. *Compacidad: perímetro^2 / área - 1*\n",
        "8. *Concavidad: severidad de las porciones cóncavas del contorno*\n",
        "9. *Puntos cóncavos: proporción de porciones cóncavas del contorno*\n",
        "10. *Simetría*\n",
        "11. *Dimensión fractal*"
      ],
      "metadata": {
        "id": "LHVE0m4wQFEG"
      }
    },
    {
      "cell_type": "code",
      "source": [
        "data = np.loadtxt('https://raw.githubusercontent.com/marinomaria/UBA-redes_neuronales/main/dataset/tp1-ej1.txt', delimiter = ',')\n",
        "\n",
        "datasetSize = data.shape[0]\n",
        "\n",
        "inputSize = 10\n",
        "outputSize = 1"
      ],
      "metadata": {
        "id": "lH9SwGEzRzFv"
      },
      "execution_count": null,
      "outputs": []
    },
    {
      "cell_type": "markdown",
      "source": [
        "Se decide separar el 10% de los datos para luego evaluar con estos al final del entrenamiento y obtener un estimado del error real que podría llegar a cometer el modelo."
      ],
      "metadata": {
        "id": "aTRuPwKqRTHK"
      }
    },
    {
      "cell_type": "code",
      "source": [
        "np.random.shuffle(data)\n",
        "\n",
        "evalSetSize = int(datasetSize * 0.1)\n",
        "trainSet = data[: - evalSetSize, :]\n",
        "evalSet = data[- evalSetSize:, :]\n",
        "\n",
        "trainSet.shape, evalSet.shape"
      ],
      "metadata": {
        "id": "tgvFggGEgBc2",
        "colab": {
          "base_uri": "https://localhost:8080/"
        },
        "outputId": "e24a976f-2dd3-46cb-9692-750b74653b9a"
      },
      "execution_count": null,
      "outputs": [
        {
          "output_type": "execute_result",
          "data": {
            "text/plain": [
              "((369, 11), (41, 11))"
            ]
          },
          "metadata": {},
          "execution_count": 64
        }
      ]
    },
    {
      "cell_type": "markdown",
      "source": [
        "### Estandarización"
      ],
      "metadata": {
        "id": "1-iafbtNaHAJ"
      }
    },
    {
      "cell_type": "markdown",
      "source": [
        "Para cada variable miramos su rango y promedio, y luego procedemos a estandarizar todo el dataset de entrenamiento **sin** la variable objetivo:"
      ],
      "metadata": {
        "id": "TprcqetEAwIS"
      }
    },
    {
      "cell_type": "code",
      "source": [
        "for j in range(trainSet.shape[1]):\n",
        "  print(f'Columna {j + 1}: \\n Rango: {trainSet[:, j].min()} - {trainSet[:, j].max()} \\n Promedio: {trainSet[:, j].mean()}')"
      ],
      "metadata": {
        "colab": {
          "base_uri": "https://localhost:8080/"
        },
        "id": "qRB7oMdqBDvl",
        "outputId": "d34adef2-994e-4f7e-8f71-443dbb84a829"
      },
      "execution_count": null,
      "outputs": [
        {
          "output_type": "stream",
          "name": "stdout",
          "text": [
            "Columna 1: \n",
            " Rango: 0.0 - 1.0 \n",
            " Promedio: 0.4878048780487805\n",
            "Columna 2: \n",
            " Rango: 6.981 - 28.11 \n",
            " Promedio: 18.601371273712733\n",
            "Columna 3: \n",
            " Rango: 10.034 - 33.44 \n",
            " Promedio: 21.19330081300813\n",
            "Columna 4: \n",
            " Rango: 43.79 - 188.5 \n",
            " Promedio: 113.41271544715447\n",
            "Columna 5: \n",
            " Rango: 143.5 - 2501.0 \n",
            " Promedio: 850.2510623306233\n",
            "Columna 6: \n",
            " Rango: 0.053 - 4.099 \n",
            " Promedio: 1.788737127371274\n",
            "Columna 7: \n",
            " Rango: 0.387 - 3.345 \n",
            " Promedio: 1.885661246612466\n",
            "Columna 8: \n",
            " Rango: 0.427 - 7.283 \n",
            " Promedio: 3.6408428184281845\n",
            "Columna 9: \n",
            " Rango: 0.201 - 9.013 \n",
            " Promedio: 4.536311653116531\n",
            "Columna 10: \n",
            " Rango: 0.106 - 1.304 \n",
            " Promedio: 0.7225853658536586\n",
            "Columna 11: \n",
            " Rango: 0.05 - 2.974 \n",
            " Promedio: 1.5473387533875338\n"
          ]
        }
      ]
    },
    {
      "cell_type": "code",
      "source": [
        "z = trainSet[:, 0].reshape(trainSet.shape[0], 1)\n",
        "x = trainSet[:, 1:trainSet.shape[1]]\n",
        "\n",
        "z.shape, x.shape"
      ],
      "metadata": {
        "id": "WL3PdKypUsBH",
        "colab": {
          "base_uri": "https://localhost:8080/"
        },
        "outputId": "d9550a35-181f-4dae-d84e-a33e6511c96c"
      },
      "execution_count": null,
      "outputs": [
        {
          "output_type": "execute_result",
          "data": {
            "text/plain": [
              "((369, 1), (369, 10))"
            ]
          },
          "metadata": {},
          "execution_count": 66
        }
      ]
    },
    {
      "cell_type": "markdown",
      "source": [
        "La estandarización utilizada es:\n",
        "\n",
        "$z = \\dfrac{x_{ij} - \\mu_{j}}{\\sigma_{j}}$\n",
        "\n",
        "donde $x_{ij}$ es el valor original para la instancia $i$ en su variable $j$, $\\mu_j$ y $\\sigma_j$ son respectivamente la media y la desviación estándar de la variable $j$."
      ],
      "metadata": {
        "id": "ij3LqZ9nGA29"
      }
    },
    {
      "cell_type": "code",
      "source": [
        "x = (x - x.mean(0)) / x.std(0)"
      ],
      "metadata": {
        "id": "UAeQFcJ4bTno"
      },
      "execution_count": null,
      "outputs": []
    },
    {
      "cell_type": "markdown",
      "source": [
        "### Entrenamiento"
      ],
      "metadata": {
        "id": "sutyEabMglU8"
      }
    },
    {
      "cell_type": "markdown",
      "source": [
        "Definimos el *batch size* (tamaño del lote) como un 10% del total de nuestro dataset. Teniendo en cuenta que ya quitamos un 10% para validación, nos quedan 9 lotes para entrenamiento.\n",
        "\n",
        "Asimismo inicializamos una instancia de la clase `MLP`, definiendo aquí parte de su arquitectura. En este caso, nuestra red neuronal tendrá una única capa oculta cuyo tamaño será el doble del tamaño de entrada, y todas las capas utilizarán la función sigmoide como función de activación."
      ],
      "metadata": {
        "id": "gNA-WMvcG6S5"
      }
    },
    {
      "cell_type": "code",
      "source": [
        "bSize = int(datasetSize * 0.1)\n",
        "M = MLP([inputSize, inputSize * 2, outputSize], bSize, 'sigmoid')"
      ],
      "metadata": {
        "id": "Wz7ycCxVUmiI"
      },
      "execution_count": null,
      "outputs": []
    },
    {
      "cell_type": "markdown",
      "source": [
        "Entrenamos el modelo de a lotes. Elegimos entrenar por 40000 épocas para cumplir con lo pedido en el enunciado y que el modelo no tarde más de un minuto en entrenarse.\n",
        "\n",
        "Cada ciclo del `while loop` exterior representa una época (*epoch*) y en él permutamos el orden de los datos para intentar evitar estancarnos en un mínimo local de nuestra función de error.\n",
        "\n",
        "En cada iteración del `for loop` ingresamos un lote al modelo, activando la red y luego corrigiendo sus pesos con los métodos ya mencionados de la clase `MLP`.\n",
        "\n",
        "Para calcular el error, sumamos el cuadrado de la diferencia entre el valor esperado (variable objetivo) y el valor predicho por el modelo, y luego dividimos por la cantidad de términos de la suma (error cuadrático medio).\n",
        "\n",
        "Por último, imprimimos para algunas épocas el error estimado para poder observar su evolución."
      ],
      "metadata": {
        "id": "Rhg9yQnZJCUk"
      }
    },
    {
      "cell_type": "code",
      "source": [
        "minError = 0.0001\n",
        "maxEpoch = 40000\n",
        "e = 1.0\n",
        "eta = 0.001\n",
        "epoch = 0\n",
        "p = x.shape[0]\n",
        "\n",
        "while e > minError and epoch < maxEpoch:\n",
        "    stochastic = np.random.permutation(p)\n",
        "    e = 0.0\n",
        "    for i in range(0, p, bSize):\n",
        "        batch = stochastic[i : i + bSize]\n",
        "        xi = x[batch].reshape(bSize, 10)\n",
        "        zi = z[batch].reshape(bSize, 1)\n",
        "        yi = M.activation(xi)\n",
        "        e += np.sum(np.square(zi - yi[-1]))\n",
        "        dW = M.correction(yi, zi)\n",
        "        for j in range(1, M.L):   \n",
        "          M.W[j] += eta * dW[j]\n",
        "    e /= p\n",
        "    if (epoch % 10000 == 0 or epoch == maxEpoch - 1):\n",
        "      print(f'Epoch {epoch}, error: {e}')\n",
        "    epoch += 1 "
      ],
      "metadata": {
        "id": "ddVTnDwob6IJ",
        "colab": {
          "base_uri": "https://localhost:8080/"
        },
        "outputId": "7bc53e44-f7ad-41bd-858e-abfa691e22a2"
      },
      "execution_count": null,
      "outputs": [
        {
          "output_type": "stream",
          "name": "stdout",
          "text": [
            "Epoch 0, error: 0.3196186232210721\n",
            "Epoch 10000, error: 0.03849632065520656\n",
            "Epoch 20000, error: 0.013449500631073806\n",
            "Epoch 30000, error: 0.008579452637621263\n",
            "Epoch 39999, error: 0.006541638692360828\n"
          ]
        }
      ]
    },
    {
      "cell_type": "markdown",
      "source": [
        "### Validación"
      ],
      "metadata": {
        "id": "ssUQ5dHLLH1X"
      }
    },
    {
      "cell_type": "markdown",
      "source": [
        "Para validar el desempeño del modelo lo utilizamos para predecir el resultado del 10% del dataset que **no fue utilizado en su entrenamiento**.\n",
        "\n",
        "Primero estandarizamos este dataset de validación como hicimos con los datos de entrenamiento, y luego comparamos los resultados obtenidos con los esperados."
      ],
      "metadata": {
        "id": "25SPnj45LcfJ"
      }
    },
    {
      "cell_type": "code",
      "source": [
        "zEval = evalSet[:, 0:1].reshape(evalSet.shape[0], 1)\n",
        "xEval = evalSet[:, 1:11]\n",
        "xEval = (xEval - xEval.mean(0)) / xEval.std(0)\n",
        "\n",
        "pred = np.zeros_like(zEval)\n",
        "\n",
        "for i in range(len(evalSet)):\n",
        "  pred[i] = M.predict(xEval[i].reshape(1, 10))\n",
        "\n",
        "print(f'El modelo acertó en {np.sum(zEval == np.round(pred))} de {len(evalSet)} instancias ({100 * np.round(np.sum(zEval == np.round(pred)) / len(evalSet), 2)} %).\\n\\n')\n",
        "\n",
        "for i in range(len(zEval)):\n",
        "  print(f'Esperado: {zEval[i]}  Predicho: {pred[i]}   Redondeado: {np.round(pred[i])}')"
      ],
      "metadata": {
        "id": "s2s1WDV_g33F",
        "colab": {
          "base_uri": "https://localhost:8080/"
        },
        "outputId": "c7b4ed88-34c8-4aa2-d9d7-beb484d3739d"
      },
      "execution_count": null,
      "outputs": [
        {
          "output_type": "stream",
          "name": "stdout",
          "text": [
            "El modelo acertó en 33 de 41 instancias (80.0 %).\n",
            "\n",
            "\n",
            "Esperado: [0.]  Predicho: [0.00345947]   Redondeado: [0.]\n",
            "Esperado: [1.]  Predicho: [0.99742525]   Redondeado: [1.]\n",
            "Esperado: [1.]  Predicho: [0.90111181]   Redondeado: [1.]\n",
            "Esperado: [1.]  Predicho: [0.99930487]   Redondeado: [1.]\n",
            "Esperado: [0.]  Predicho: [0.60292348]   Redondeado: [1.]\n",
            "Esperado: [0.]  Predicho: [0.08984131]   Redondeado: [0.]\n",
            "Esperado: [1.]  Predicho: [0.49259027]   Redondeado: [0.]\n",
            "Esperado: [0.]  Predicho: [0.2505731]   Redondeado: [0.]\n",
            "Esperado: [1.]  Predicho: [0.96465163]   Redondeado: [1.]\n",
            "Esperado: [1.]  Predicho: [0.97147201]   Redondeado: [1.]\n",
            "Esperado: [1.]  Predicho: [0.9192532]   Redondeado: [1.]\n",
            "Esperado: [1.]  Predicho: [0.98344597]   Redondeado: [1.]\n",
            "Esperado: [1.]  Predicho: [0.96642993]   Redondeado: [1.]\n",
            "Esperado: [1.]  Predicho: [0.99840584]   Redondeado: [1.]\n",
            "Esperado: [0.]  Predicho: [0.5004319]   Redondeado: [1.]\n",
            "Esperado: [0.]  Predicho: [0.5106831]   Redondeado: [1.]\n",
            "Esperado: [0.]  Predicho: [0.19490492]   Redondeado: [0.]\n",
            "Esperado: [0.]  Predicho: [0.0004165]   Redondeado: [0.]\n",
            "Esperado: [0.]  Predicho: [0.02409314]   Redondeado: [0.]\n",
            "Esperado: [0.]  Predicho: [0.06968876]   Redondeado: [0.]\n",
            "Esperado: [0.]  Predicho: [0.54383613]   Redondeado: [1.]\n",
            "Esperado: [0.]  Predicho: [0.31008608]   Redondeado: [0.]\n",
            "Esperado: [0.]  Predicho: [0.00089046]   Redondeado: [0.]\n",
            "Esperado: [0.]  Predicho: [0.97226675]   Redondeado: [1.]\n",
            "Esperado: [1.]  Predicho: [0.98176726]   Redondeado: [1.]\n",
            "Esperado: [0.]  Predicho: [0.40819013]   Redondeado: [0.]\n",
            "Esperado: [0.]  Predicho: [0.06184021]   Redondeado: [0.]\n",
            "Esperado: [1.]  Predicho: [0.97813642]   Redondeado: [1.]\n",
            "Esperado: [0.]  Predicho: [0.0091476]   Redondeado: [0.]\n",
            "Esperado: [1.]  Predicho: [0.99944124]   Redondeado: [1.]\n",
            "Esperado: [0.]  Predicho: [0.00089525]   Redondeado: [0.]\n",
            "Esperado: [0.]  Predicho: [0.91807712]   Redondeado: [1.]\n",
            "Esperado: [0.]  Predicho: [0.05919815]   Redondeado: [0.]\n",
            "Esperado: [0.]  Predicho: [0.00015688]   Redondeado: [0.]\n",
            "Esperado: [0.]  Predicho: [0.01034764]   Redondeado: [0.]\n",
            "Esperado: [0.]  Predicho: [0.00117699]   Redondeado: [0.]\n",
            "Esperado: [0.]  Predicho: [0.02427213]   Redondeado: [0.]\n",
            "Esperado: [1.]  Predicho: [0.27870447]   Redondeado: [0.]\n",
            "Esperado: [0.]  Predicho: [0.02916192]   Redondeado: [0.]\n",
            "Esperado: [1.]  Predicho: [0.64081789]   Redondeado: [1.]\n",
            "Esperado: [0.]  Predicho: [0.05629045]   Redondeado: [0.]\n"
          ]
        }
      ]
    },
    {
      "cell_type": "markdown",
      "source": [
        "#### Validación cruzada con *K-folds*"
      ],
      "metadata": {
        "id": "U8jIFfISeUnw"
      }
    },
    {
      "cell_type": "markdown",
      "source": [
        "Por último, para tener un mayor entendimiento de la performance del modelo en el \"caso real\" utilizamos el método *K-folds*.\n",
        "\n",
        "La siguiente celda de código demora más en correr ya que entrena múltiples modelos con la misma arquitectura que el original pero variando los conjuntos de datos de entrenamiento y validación."
      ],
      "metadata": {
        "id": "8snlgstqNXeQ"
      }
    },
    {
      "cell_type": "code",
      "source": [
        "s = np.random.permutation(datasetSize)\n",
        "\n",
        "pred = np.empty(shape=(datasetSize, outputSize))\n",
        "\n",
        "print(f'Cantidad de folds: {int(datasetSize / bSize)}. Tamaño de cada fold: {bSize} instancias.')\n",
        "\n",
        "for i in range(0, datasetSize, bSize):\n",
        "    fold = s[i : i + 82]\n",
        "    evalSet = data[fold]\n",
        "    trainSet = np.delete(data, fold, 0)\n",
        "\n",
        "    x = trainSet[:, 1:11]\n",
        "    z = trainSet[:, 0]\n",
        "    \n",
        "    x = (x - x.mean(0)) / x.std(0)\n",
        "\n",
        "    M = MLP([inputSize, inputSize * 2, outputSize], bSize, 'sigmoid')\n",
        "\n",
        "    e = 1.0\n",
        "    epoch = 0\n",
        "    p = len(trainSet)\n",
        "\n",
        "    while e > minError and epoch < maxEpoch:\n",
        "        stochastic = np.random.permutation(p)\n",
        "        e = 0.0\n",
        "        for j in range(0, p, bSize):\n",
        "            batch = stochastic[j : j + bSize]\n",
        "            xj = x[batch].reshape(bSize, M.S[0])\n",
        "            zj = z[batch].reshape(bSize, M.S[-1])\n",
        "            y = M.activation(xj)\n",
        "            e += np.sum(np.square(zj - y[-1]))\n",
        "            dW = M.correction(y, zj)\n",
        "            for k in range(1, M.L):\n",
        "                M.W[k] += eta * dW[k]\n",
        "        e /= (p / bSize)\n",
        "        epoch += 1 \n",
        "\n",
        "    xEval = evalSet[:, 1:11]\n",
        "    zEval = evalSet[:, 0]\n",
        "\n",
        "    xEval = (xEval - xEval.mean(0)) / xEval.std(0)\n",
        "\n",
        "    pred[fold] = M.predict(xEval)\n",
        "    print(f'Modelo entrenado sin el fold {int(i / bSize)}. Error en la última época: {e}')\n"
      ],
      "metadata": {
        "id": "H7GuSlbteTSh",
        "colab": {
          "base_uri": "https://localhost:8080/"
        },
        "outputId": "9f224d18-6f84-419e-8a44-b4e4fd2f23e2"
      },
      "execution_count": null,
      "outputs": [
        {
          "output_type": "stream",
          "name": "stdout",
          "text": [
            "Cantidad de folds: 10. Tamaño de cada fold: 41 instancias.\n",
            "Modelo entrenado sin el fold 0. Error en la última época: 0.36800509811383275\n",
            "Modelo entrenado sin el fold 1. Error en la última época: 0.1346939025501628\n",
            "Modelo entrenado sin el fold 2. Error en la última época: 0.13720234639960358\n",
            "Modelo entrenado sin el fold 3. Error en la última época: 0.25093974040198885\n",
            "Modelo entrenado sin el fold 4. Error en la última época: 0.1825338687636233\n",
            "Modelo entrenado sin el fold 5. Error en la última época: 0.15329515656697157\n",
            "Modelo entrenado sin el fold 6. Error en la última época: 0.1904755478063563\n",
            "Modelo entrenado sin el fold 7. Error en la última época: 0.18781691899783984\n",
            "Modelo entrenado sin el fold 8. Error en la última época: 0.21331884453630232\n",
            "Modelo entrenado sin el fold 9. Error en la última época: 0.19838848849628624\n"
          ]
        }
      ]
    },
    {
      "cell_type": "markdown",
      "source": [
        "Los *K-folds* se organizan de forma tal que para cada instancia se obtiene un resultado con alguno de los $K$ modelos entrenados. Guardamos esos resultados en el arreglo `pred` y los comparamos con los valores esperados para construir las métricas de *Recall* y Precisión.\n",
        "\n",
        "$\\text{Recall} = \\dfrac{\\text{Verdaderos Positivos}}{\\text{Verdaderos Positivos} + \\text{Falsos Negativos}}$\n",
        "\n",
        "$\\text{Precisión} = \\dfrac{\\text{Verdaderos Positivos}}{\\text{Verdaderos Positivos} + \\text{Falsos Positivos}}$\n"
      ],
      "metadata": {
        "id": "sjRnewup1h9r"
      }
    },
    {
      "cell_type": "code",
      "source": [
        "expected = data[:, 0].reshape(datasetSize, outputSize)\n",
        "\n",
        "tp = fn = tn = fp = 0\n",
        "\n",
        "for i in range(len(pred)):\n",
        "    if expected[i] == 1:\n",
        "        if np.round(pred[i]) == 1:\n",
        "            tp += 1\n",
        "        else:\n",
        "            fn += 1\n",
        "    else:\n",
        "        if np.round(pred[i]) == 1:\n",
        "            fp += 1\n",
        "        else:\n",
        "            tn += 1\n",
        "\n",
        "print('Recall:', tp / (tp + fn))\n",
        "print('Precisión:', tp / (tp + fp))\n",
        "\n",
        "print(f'\\n\\nSe cometieron {fp + fn} errores en {datasetSize} diagnósticos.')\n",
        "print(f'Diagnosticamos como benignos a {fn} tumores malignos.')\n",
        "print(f'Diagnosticamos como malignos a {fp} tumores benignos.')"
      ],
      "metadata": {
        "colab": {
          "base_uri": "https://localhost:8080/"
        },
        "id": "djz3Gfn5e8Qg",
        "outputId": "d8b81977-3207-422d-db69-3903bbbb9943"
      },
      "execution_count": null,
      "outputs": [
        {
          "output_type": "stream",
          "name": "stdout",
          "text": [
            "Recall: 0.9076923076923077\n",
            "Precisión: 0.8984771573604061\n",
            "\n",
            "\n",
            "Se cometieron 38 errores en 410 diagnósticos.\n",
            "Diagnosticamos como benignos a 18 tumores malignos.\n",
            "Diagnosticamos como malignos a 20 tumores benignos.\n"
          ]
        }
      ]
    },
    {
      "cell_type": "markdown",
      "source": [
        "En este caso la medida principal que queremos optimizar es el *recall*, ya que al tratarse de un problema de diagnóstico de cáncer de mama es preferible sobreestimar (dar un resultado positivo para tumores benignos) que subestimar, por el impacto que puede tener en las posibilidades de tratamiento y en la calidad de vida de un paciente la detección tardía de un tumor maligno.\n",
        "\n",
        "Como alternativa para mejorar nuestro modelo podríamos agregar un *threshold* $\\epsilon$, y sólo diagnosticar como benignos aquellos casos donde el modelo devuelva resultados menores a $0,5 + \\epsilon$."
      ],
      "metadata": {
        "id": "Ldr9GHvr2O0a"
      }
    },
    {
      "cell_type": "markdown",
      "source": [
        "# **Ejercicio 2**"
      ],
      "metadata": {
        "id": "AAVnjPi0CDl5"
      }
    },
    {
      "cell_type": "markdown",
      "source": [
        "Para resolver este ejericio se utiliza la misma clase que en el ejericio anterior."
      ],
      "metadata": {
        "id": "d5Z9E_7nxnHV"
      }
    },
    {
      "cell_type": "markdown",
      "source": [
        "Al igual que antes se subieron los datos a un repositorio público para facilitar su lectura.\n",
        "\n",
        "Sabemos por la consigna de este ejercicio que las columnas del dataset representan:\n",
        "\n",
        "1. Compacidad Relativa\n",
        "2. Área de la Superficie Total\n",
        "3. Área de las Paredes\n",
        "4. Área del Techo\n",
        "5. Altura Total\n",
        "6. Orientación\n",
        "7. Área de Reflejo Total \n",
        "8. Distribución del Área de Reflejo\n",
        "9. Carga de Calefacción\n",
        "10. Carga de Refrigeración\n",
        "\n",
        "Las últimas dos columnas serán las variables objetivo en este ejercicio."
      ],
      "metadata": {
        "id": "RvzBggueyWyI"
      }
    },
    {
      "cell_type": "code",
      "source": [
        "data = np.loadtxt('https://raw.githubusercontent.com/marinomaria/UBA-redes_neuronales/main/dataset/tp1-ej2.txt', delimiter = ',')\n",
        "\n",
        "datasetSize = data.shape[0]\n",
        "inputSize = 8\n",
        "outputSize = 2"
      ],
      "metadata": {
        "id": "4QUOqITmCAXM"
      },
      "execution_count": null,
      "outputs": []
    },
    {
      "cell_type": "markdown",
      "source": [
        "Separamos un 10% del dataset para validar posteriormente el desempeño del modelo en datos que no hayan sido utilizado en su entrenamiento."
      ],
      "metadata": {
        "id": "QK8O8bLF1nxi"
      }
    },
    {
      "cell_type": "code",
      "source": [
        "np.random.shuffle(data)\n",
        "\n",
        "evalSetSize = int(datasetSize * 0.1)\n",
        "trainSet = data[: - evalSetSize, :]\n",
        "evalSet = data[- evalSetSize:, :]\n",
        "\n",
        "trainSetSize = datasetSize - evalSetSize\n",
        "\n",
        "trainSet.shape, evalSet.shape"
      ],
      "metadata": {
        "colab": {
          "base_uri": "https://localhost:8080/"
        },
        "id": "hgaWNTOkKSxJ",
        "outputId": "a0616589-f354-4899-dab3-79ef888d3322"
      },
      "execution_count": null,
      "outputs": [
        {
          "output_type": "execute_result",
          "data": {
            "text/plain": [
              "((450, 10), (50, 10))"
            ]
          },
          "metadata": {},
          "execution_count": 72
        }
      ]
    },
    {
      "cell_type": "markdown",
      "source": [
        "### Estandarización"
      ],
      "metadata": {
        "id": "mgXFtAtT1gd-"
      }
    },
    {
      "cell_type": "code",
      "source": [
        "for j in range(inputSize + outputSize):\n",
        "  print(f'Columna {j + 1}: \\n Rango: {trainSet[:, j].min()} - {trainSet[:, j].max()} \\n Promedio: {trainSet[:, j].mean()}')"
      ],
      "metadata": {
        "colab": {
          "base_uri": "https://localhost:8080/"
        },
        "id": "AODWwAzU2Eiy",
        "outputId": "84c16bc5-19d0-4783-e4e2-45eeedb50390"
      },
      "execution_count": null,
      "outputs": [
        {
          "output_type": "stream",
          "name": "stdout",
          "text": [
            "Columna 1: \n",
            " Rango: 0.62 - 0.98 \n",
            " Promedio: 0.7616444444444445\n",
            "Columna 2: \n",
            " Rango: 514.5 - 808.5 \n",
            " Promedio: 673.4233333333333\n",
            "Columna 3: \n",
            " Rango: 245.0 - 416.5 \n",
            " Promedio: 318.44555555555553\n",
            "Columna 4: \n",
            " Rango: 110.25 - 220.5 \n",
            " Promedio: 177.48888888888888\n",
            "Columna 5: \n",
            " Rango: 3.5 - 7.0 \n",
            " Promedio: 5.234444444444445\n",
            "Columna 6: \n",
            " Rango: 2.0 - 5.0 \n",
            " Promedio: 3.397777777777778\n",
            "Columna 7: \n",
            " Rango: 0.0 - 0.4 \n",
            " Promedio: 0.23077777777777778\n",
            "Columna 8: \n",
            " Rango: 0.0 - 5.0 \n",
            " Promedio: 2.7777777777777777\n",
            "Columna 9: \n",
            " Rango: 6.04 - 42.96 \n",
            " Promedio: 22.15886666666666\n",
            "Columna 10: \n",
            " Rango: 10.9 - 47.59 \n",
            " Promedio: 24.457\n"
          ]
        }
      ]
    },
    {
      "cell_type": "markdown",
      "source": [
        "Observamos que los rangos de las columnas tienen distintos órdenes de magnitud. \n",
        "\n",
        "Estandarizamos utilizando una fórmula similar a la que empleamos en el Ejercicio 1, sólo que \n",
        "- Ahora dividiremos por la desviación estándar de **todo el conjunto de datos de entreanmiento**, no sólo de la variable $j$\n",
        "- También estandarizaremos las variables objetivo.\n",
        "\n",
        "$z = \\dfrac{x_{ij} - \\mu_{j}}{\\sigma}$\n",
        "\n",
        "donde $x_{ij}$ es el valor original para la instancia $i$ en su variable $j$, $\\mu_j$ es la media de la variable $j$ y $\\sigma$ es la desviación estándar del conjunto de datos de entrenamiento."
      ],
      "metadata": {
        "id": "LVOg6kh_120m"
      }
    },
    {
      "cell_type": "code",
      "source": [
        "trainSet = (trainSet - trainSet.mean(0)) / trainSet.std()"
      ],
      "metadata": {
        "id": "KdGRKLH8BM-w"
      },
      "execution_count": null,
      "outputs": []
    },
    {
      "cell_type": "markdown",
      "source": [
        "### Entrenamiento"
      ],
      "metadata": {
        "id": "anYFxGxA5O3Z"
      }
    },
    {
      "cell_type": "markdown",
      "source": [
        "Separamos en variables de entrada y variables objetivo."
      ],
      "metadata": {
        "id": "ws1__9RM5Nsb"
      }
    },
    {
      "cell_type": "code",
      "source": [
        "z = trainSet[:, inputSize:].reshape(trainSet.shape[0], 2)\n",
        "x = trainSet[:, 0:inputSize]\n",
        "\n",
        "x.shape, z.shape"
      ],
      "metadata": {
        "colab": {
          "base_uri": "https://localhost:8080/"
        },
        "id": "ajzmzKRnDDU5",
        "outputId": "aa7e3e82-f133-49b6-9018-46a6c6eab14c"
      },
      "execution_count": null,
      "outputs": [
        {
          "output_type": "execute_result",
          "data": {
            "text/plain": [
              "((450, 8), (450, 2))"
            ]
          },
          "metadata": {},
          "execution_count": 75
        }
      ]
    },
    {
      "cell_type": "markdown",
      "source": [
        "Definimos el *batch size* (tamaño del lote) como un 10% del conjunto total de datos. Teniendo en cuenta que ya quitamos un 10% para validación, nos quedan 9 lotes para entrenamiento.\n",
        "\n",
        "\n",
        "Asimismo inicializamos una instancia de la clase `MLP`, definiendo aquí parte de su arquitectura. En este caso, nuestra red neuronal posee una capa oculta, cuyo tamaño será el doble del tamaño de entrada. Todas las capas utilizarán la función tangente hiperbólica como función de activación."
      ],
      "metadata": {
        "id": "1fJ6mqBV5KBT"
      }
    },
    {
      "cell_type": "code",
      "source": [
        "bSize = int(datasetSize * 0.1)\n",
        "M = MLP([inputSize, inputSize * 2, outputSize], bSize, 'tanh')"
      ],
      "metadata": {
        "id": "j_nWpBq6FZh7"
      },
      "execution_count": null,
      "outputs": []
    },
    {
      "cell_type": "markdown",
      "source": [
        "Entrenamos el modelo de a lotes. Aquí también elegimos entrenar por 40000 épocas para cumplir con la cota temporal del enunciado (un minuto).\n",
        "\n",
        "Cada ciclo del `while loop` exterior representa una época (*epoch*) y en él permutamos el orden de los datos para intentar evitar estancarnos en un mínimo local de nuestra función de error.\n",
        "\n",
        "En cada iteración del `for loop` ingresamos un lote al modelo, activando la red y luego corrigiendo sus pesos con los métodos ya mencionados de la clase `MLP`.\n",
        "\n",
        "Para calcular el error, sumamos el cuadrado de la diferencia entre el valor esperado (variable objetivo) y el valor predicho por el modelo, y luego dividimos por la cantidad de términos de la suma (error cuadrático medio).\n",
        "\n",
        "Por último, imprimimos para algunas épocas el error estimado para poder observar su evolución."
      ],
      "metadata": {
        "id": "MauwOnxs57qQ"
      }
    },
    {
      "cell_type": "code",
      "source": [
        "minError = 0.000001\n",
        "maxEpoch = 40000\n",
        "e = 1.0\n",
        "epoch = 0\n",
        "eta = 0.001\n",
        "p = len(trainSet)\n",
        "\n",
        "while e > minError and epoch < maxEpoch:\n",
        "    stochastic = np.random.permutation(p)\n",
        "    e = 0.0\n",
        "    for i in range(0, p, bSize):\n",
        "        batch = stochastic[i : i + bSize]\n",
        "        xi = x[batch].reshape(bSize, M.S[0])\n",
        "        zi = z[batch].reshape(bSize, M.S[-1])\n",
        "        y = M.activation(xi)\n",
        "        e += np.sum(np.square(zi - y[-1]))\n",
        "        dW = M.correction(y, zi)\n",
        "        for i in range(1, M.L):\n",
        "          M.W[i] += eta * dW[i]\n",
        "    e /= p\n",
        "    if epoch % 10000 == 0 or epoch == maxEpoch - 1:\n",
        "      print(f'Epoch {epoch}, error: {e}')\n",
        "    epoch += 1 "
      ],
      "metadata": {
        "colab": {
          "base_uri": "https://localhost:8080/"
        },
        "id": "W-VB9nZaE46A",
        "outputId": "0f6b4b12-f600-4fa5-bc36-b80f3fc423b0"
      },
      "execution_count": null,
      "outputs": [
        {
          "output_type": "stream",
          "name": "stdout",
          "text": [
            "Epoch 0, error: 0.5581709574724008\n",
            "Epoch 10000, error: 0.0006484536721248918\n",
            "Epoch 20000, error: 0.0006084436133713308\n",
            "Epoch 30000, error: 0.0005776930113166594\n",
            "Epoch 39999, error: 0.0005624972118241038\n"
          ]
        }
      ]
    },
    {
      "cell_type": "markdown",
      "source": [
        "### Validación"
      ],
      "metadata": {
        "id": "xxtji7Vc6VN4"
      }
    },
    {
      "cell_type": "markdown",
      "source": [
        "Para validar el desempeño del modelo lo utilizamos para predecir el resultado del 10% del dataset que **no fue utilizado en su entrenamiento**.\n",
        "\n",
        "Primero estandarizamos este dataset de validación como hicimos con los datos de entrenamiento, y luego comparamos los resultados obtenidos con los esperados."
      ],
      "metadata": {
        "id": "n5XPr7UR7grs"
      }
    },
    {
      "cell_type": "code",
      "source": [
        "evalSet = data[- evalSetSize:, :]\n",
        "evalSet = (evalSet - evalSet.mean(0)) / evalSet.std()\n",
        "\n",
        "zEval = evalSet[:, inputSize:].reshape(evalSetSize, 2)\n",
        "xEval = evalSet[:, 0:inputSize]\n",
        "\n",
        "pred = np.zeros_like(zEval)\n",
        "\n",
        "for i in range(len(evalSet)):\n",
        "  pred[i] = M.predict(xEval[i].reshape(1, 8))\n",
        "  print(f'Esperado: {zEval[i]}  Predicho: {pred[i]}   Diferencia: {np.linalg.norm(zEval[i] - pred[i], 1)}')\n",
        "\n",
        "print('\\n\\nError cuadrático medio por variable:', np.mean(np.square(zEval - pred), axis = 0))\n",
        "print('Error absoluto medio:', np.mean(np.linalg.norm(zEval - pred, 1, axis=1)))"
      ],
      "metadata": {
        "colab": {
          "base_uri": "https://localhost:8080/"
        },
        "id": "DsI7JtNgIP2z",
        "outputId": "6a4187ac-57ce-40f6-a553-fd8acd0a4b2f"
      },
      "execution_count": null,
      "outputs": [
        {
          "output_type": "stream",
          "name": "stdout",
          "text": [
            "Esperado: [-0.0356849  -0.04237446]  Predicho: [-0.03589265 -0.0391285 ]   Diferencia: 0.0034537121031655016\n",
            "Esperado: [-0.0501041  -0.05093143]  Predicho: [-0.0397359  -0.03701973]   Diferencia: 0.02427988712121181\n",
            "Esperado: [-0.05067141 -0.05244426]  Predicho: [-0.04595925 -0.04136567]   Diferencia: 0.0157907556092935\n",
            "Esperado: [-0.03317927 -0.02530781]  Predicho: [-0.03556766 -0.03616525]   Diferencia: 0.01324583180345762\n",
            "Esperado: [-0.04528194 -0.04904038]  Predicho: [-0.03422101 -0.03784294]   Diferencia: 0.022258372104101427\n",
            "Esperado: [-0.03729229 -0.03641768]  Predicho: [-0.04684053 -0.04504546]   Diferencia: 0.018176020349276498\n",
            "Esperado: [-0.02396044 -0.01954013]  Predicho: [-0.04083559 -0.0401978 ]   Diferencia: 0.03753281181394267\n",
            "Esperado: [0.03234532 0.02395383]  Predicho: [0.05113936 0.04598008]   Diferencia: 0.04082028896084869\n",
            "Esperado: [0.01144931 0.00868366]  Predicho: [0.01780358 0.02177446]   Diferencia: 0.019445064345141216\n",
            "Esperado: [0.03504006 0.02589214]  Predicho: [0.05109599 0.04588897]   Diferencia: 0.03605275573116643\n",
            "Esperado: [-0.0727966  -0.05991387]  Predicho: [-0.0517471  -0.04391035]   Diferencia: 0.03705301336358739\n",
            "Esperado: [0.09186586 0.09921729]  Predicho: [0.05399047 0.0592089 ]   Diferencia: 0.07788377706127836\n",
            "Esperado: [-0.03790688 -0.03774141]  Predicho: [-0.04452614 -0.04456048]   Diferencia: 0.013438330222573583\n",
            "Esperado: [0.02818503 0.0259867 ]  Predicho: [0.0266321  0.02578409]   Diferencia: 0.0017555329140289191\n",
            "Esperado: [-0.02225851 -0.01641992]  Predicho: [-0.04331257 -0.0417153 ]   Diferencia: 0.046349455108964405\n",
            "Esperado: [-0.04835488 -0.04672386]  Predicho: [-0.05036029 -0.04624647]   Diferencia: 0.00248279911107889\n",
            "Esperado: [0.06789691 0.05099572]  Predicho: [0.04887427 0.04471999]   Diferencia: 0.025298369267262734\n",
            "Esperado: [-0.03322655 -0.02488233]  Predicho: [-0.04052097 -0.03920337]   Diferencia: 0.02161546706788778\n",
            "Esperado: [-0.04632201 -0.0440764 ]  Predicho: [-0.05578456 -0.04778409]   Diferencia: 0.013170238577296788\n",
            "Esperado: [0.0470009  0.05487236]  Predicho: [0.02627346 0.01853716]   Diferencia: 0.05706263777554173\n",
            "Esperado: [-0.03365203 -0.0349994 ]  Predicho: [-0.03878375 -0.042079  ]   Diferencia: 0.012211318963310562\n",
            "Esperado: [0.0323926  0.02239372]  Predicho: [0.05484711 0.04766086]   Diferencia: 0.047721655588349704\n",
            "Esperado: [-0.04972589 -0.04653475]  Predicho: [-0.05003099 -0.04595729]   Diferencia: 0.0008825663265307551\n",
            "Esperado: [-0.05591905 -0.05253881]  Predicho: [-0.05085494 -0.04638824]   Diferencia: 0.011214675809444234\n",
            "Esperado: [0.04213146 0.05510874]  Predicho: [0.02982344 0.02008105]   Diferencia: 0.0473357172328006\n",
            "Esperado: [-0.02216395 -0.01660902]  Predicho: [-0.0411688  -0.03887112]   Diferencia: 0.041266946198689425\n",
            "Esperado: [-0.04603836 -0.04473826]  Predicho: [-0.03973465 -0.04006793]   Diferencia: 0.010974042376340996\n",
            "Esperado: [0.09588432 0.06716413]  Predicho: [0.058487   0.06219375]   Diferencia: 0.04236770827808907\n",
            "Esperado: [-0.05119144 -0.04757483]  Predicho: [-0.03754947 -0.03776179]   Diferencia: 0.023455007183772462\n",
            "Esperado: [0.01130748 0.02225189]  Predicho: [0.05063951 0.04623562]   Diferencia: 0.06331576519410462\n",
            "Esperado: [-0.03365203 -0.02951538]  Predicho: [-0.03653594 -0.03597849]   Diferencia: 0.009347020248724337\n",
            "Esperado: [0.0323926  0.04366794]  Predicho: [0.05148596 0.04666687]   Diferencia: 0.022092291502616164\n",
            "Esperado: [0.00322328 0.02021902]  Predicho: [0.04979292 0.04580422]   Diferencia: 0.07215484937063318\n",
            "Esperado: [-0.03256468 -0.02450412]  Predicho: [-0.0344637  -0.03475853]   Diferencia: 0.012153422824922655\n",
            "Esperado: [0.04671724 0.03355086]  Predicho: [0.01558274 0.01390127]   Diferencia: 0.050784092575445174\n",
            "Esperado: [0.01967534 0.01147295]  Predicho: [0.01384358 0.01297832]   Diferencia: 0.0073371382635202265\n",
            "Esperado: [-0.0323283  -0.02563874]  Predicho: [-0.03310641 -0.03464071]   Diferencia: 0.00978006828842972\n",
            "Esperado: [-0.02296765 -0.01613626]  Predicho: [-0.04223115 -0.04029127]   Diferencia: 0.04341851088156044\n",
            "Esperado: [0.05177578 0.04399887]  Predicho: [0.05864038 0.05156853]   Diferencia: 0.014434263313690618\n",
            "Esperado: [0.08397076 0.05751982]  Predicho: [0.05407812 0.05975887]   Diferencia: 0.032131695659426716\n",
            "Esperado: [-0.00646831  0.01738246]  Predicho: [0.03874217 0.03954431]   Diferencia: 0.06737233028647767\n",
            "Esperado: [0.02279556 0.00570527]  Predicho: [0.02459191 0.01772179]   Diferencia: 0.013812867179887974\n",
            "Esperado: [0.01211118 0.02452114]  Predicho: [0.05172117 0.04738553]   Diferencia: 0.06247438249585325\n",
            "Esperado: [0.00175772 0.0184698 ]  Predicho: [0.03574049 0.03892056]   Diferencia: 0.05443351471517254\n",
            "Esperado: [0.01178024 0.01969898]  Predicho: [0.04295124 0.04210481]   Diferencia: 0.05357681664319843\n",
            "Esperado: [-0.03795415 -0.0359922 ]  Predicho: [-0.05224295 -0.04658246]   Diferencia: 0.02487905910024065\n",
            "Esperado: [0.0959316  0.06498943]  Predicho: [0.05132041 0.05814304]   Diferencia: 0.05145758447258938\n",
            "Esperado: [0.06373662 0.05827623]  Predicho: [0.07099414 0.06044838]   Diferencia: 0.009429668269985259\n",
            "Esperado: [0.05711797 0.0411623 ]  Predicho: [0.05285393 0.04685214]   Diferencia: 0.009953875676563056\n",
            "Esperado: [-0.03681953 -0.03655951]  Predicho: [-0.04768669 -0.04249689]   Diferencia: 0.016804539592635406\n",
            "\n",
            "\n",
            "Error cuadrático medio por variable: [0.00043635 0.00027305]\n",
            "Error absoluto medio: 0.029314770298482225\n"
          ]
        }
      ]
    },
    {
      "cell_type": "code",
      "source": [
        "import matplotlib.pyplot as plt\n",
        "\n",
        "\n",
        "plt.scatter(range(evalSetSize), zEval[:, 0], c ='red', alpha=0.5)\n",
        "plt.scatter(range(evalSetSize), pred[:, 0], c ='blue', alpha=0.5)\n",
        "plt.ylabel('Carga de Calefacción (estandarizada)')\n",
        "plt.xlabel('Índice')\n",
        "plt.legend(['Esperados', 'Predichos'])\n",
        "plt.show()\n",
        "\n",
        "plt.scatter(range(evalSetSize), zEval[:, 1], c ='red', alpha=0.5)\n",
        "plt.scatter(range(evalSetSize), pred[:, 1], c ='blue', alpha=0.5)\n",
        "plt.ylabel('Carga de Refrigeración (estandarizada)')\n",
        "plt.xlabel('Índice')\n",
        "plt.legend(['Esperados', 'Predichos'])\n",
        "plt.show()"
      ],
      "metadata": {
        "colab": {
          "base_uri": "https://localhost:8080/",
          "height": 881
        },
        "id": "6wZ9L1SQoZPy",
        "outputId": "90a654c3-81d5-4e57-9405-91e01cc68b2b"
      },
      "execution_count": null,
      "outputs": [
        {
          "output_type": "display_data",
          "data": {
            "text/plain": [
              "<Figure size 640x480 with 1 Axes>"
            ],
            "image/png": "[encoded data removed]"
          },
          "metadata": {}
        },
        {
          "output_type": "display_data",
          "data": {
            "text/plain": [
              "<Figure size 640x480 with 1 Axes>"
            ],
            "image/png": "[encoded data removed]"
          },
          "metadata": {}
        }
      ]
    },
    {
      "cell_type": "markdown",
      "source": [
        "El error cuadrático medio para el conjunto de datos de evaluación es cercano al obtenido en la última época de entrenamiento del modelo. Con esto entendemos que no estamos sobre-ajustando el modelo a los datos de entrenamiento, sino que el ajuste es adecuado.\n",
        "\n",
        "Para analizar la magnitud del error preferimos utilizar el error absoluto medio, que se encuentra en la misma escala que las variables objetivo estandarizadas. El rango de las mismas es [-1, 1]. La media del error absoluto nos indica que tomando el modulo del \"vector error\", es decir, la diferencia entre los valores reales  y los predichos para ambas variables, nos daría en promedio 0.03 aproximadamente. Obviamente esto toma en cuenta ambas variables, pero si queremos analizar cada una por separado, podemos tomar la raiz del error cuadratico medio calculado para cada variable objetivo. En este caso para la primera variable nos quedaría una diferencia estimada en promedio de 0,02 y para la segunda variable, una diferencia estimada de 0.018 aunque obviamente estos valores pueden variar ligeramente en diferentes corridas del algoritmo."
      ],
      "metadata": {
        "id": "Pl3EgYpWRx4w"
      }
    }
  ]
}